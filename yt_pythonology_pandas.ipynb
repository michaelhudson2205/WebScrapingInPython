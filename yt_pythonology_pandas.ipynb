{
 "cells": [
  {
   "cell_type": "code",
   "execution_count": 18,
   "id": "cb24e84c",
   "metadata": {},
   "outputs": [],
   "source": [
    "import pandas as pd\n",
    "import requests"
   ]
  },
  {
   "cell_type": "code",
   "execution_count": null,
   "id": "c5475a9f",
   "metadata": {},
   "outputs": [],
   "source": [
    "url = \"https://en.wikipedia.org/wiki/List_of_national_capitals\""
   ]
  },
  {
   "cell_type": "code",
   "execution_count": 4,
   "id": "3f40aa6f",
   "metadata": {},
   "outputs": [],
   "source": [
    "tables = pd.read_html(url)"
   ]
  },
  {
   "cell_type": "code",
   "execution_count": 5,
   "id": "a9b339d3",
   "metadata": {},
   "outputs": [
    {
     "data": {
      "text/plain": [
       "2"
      ]
     },
     "execution_count": 5,
     "metadata": {},
     "output_type": "execute_result"
    }
   ],
   "source": [
    "len(tables)"
   ]
  },
  {
   "cell_type": "code",
   "execution_count": null,
   "id": "50ad64c4",
   "metadata": {},
   "outputs": [
    {
     "name": "stdout",
     "output_type": "stream",
     "text": [
      "Running in a virtual environment\n"
     ]
    }
   ],
   "source": [
    "import sys\n",
    "\n",
    "if sys.prefix != sys.base_prefix:\n",
    "    print(\"Running in a virtual environment\")\n",
    "else:\n",
    "    print(\"Not running in a virtual environment\")"
   ]
  },
  {
   "cell_type": "code",
   "execution_count": 10,
   "id": "6716b9cc",
   "metadata": {},
   "outputs": [],
   "source": [
    "df = tables[1]"
   ]
  },
  {
   "cell_type": "code",
   "execution_count": 11,
   "id": "5887f84f",
   "metadata": {},
   "outputs": [
    {
     "data": {
      "application/vnd.microsoft.datawrangler.viewer.v0+json": {
       "columns": [
        {
         "name": "index",
         "rawType": "int64",
         "type": "integer"
        },
        {
         "name": "City/Town",
         "rawType": "object",
         "type": "string"
        },
        {
         "name": "Country/Territory",
         "rawType": "object",
         "type": "string"
        },
        {
         "name": "Continent",
         "rawType": "object",
         "type": "string"
        },
        {
         "name": "Notes",
         "rawType": "object",
         "type": "unknown"
        }
       ],
       "conversionMethod": "pd.DataFrame",
       "ref": "b1ed6af8-a514-4765-abfe-83373ed0b1b1",
       "rows": [
        [
         "0",
         "Abidjan (former capital; still hosts some government offices)",
         "Ivory Coast (Côte d'Ivoire)",
         "Africa",
         "Abidjan is the largest city in Ivory Coast and is officially designated as the economic capital."
        ],
        [
         "1",
         "Yamoussoukro (de jure)",
         "Ivory Coast (Côte d'Ivoire)",
         "Africa",
         "Abidjan is the largest city in Ivory Coast and is officially designated as the economic capital."
        ],
        [
         "2",
         "Abu Dhabi",
         "United Arab Emirates",
         "Asia",
         null
        ],
        [
         "3",
         "Abuja",
         "Nigeria",
         "Africa",
         "Lagos was the capital from 1914 to 1991."
        ],
        [
         "4",
         "Accra",
         "Ghana",
         "Africa",
         null
        ]
       ],
       "shape": {
        "columns": 4,
        "rows": 5
       }
      },
      "text/html": [
       "<div>\n",
       "<style scoped>\n",
       "    .dataframe tbody tr th:only-of-type {\n",
       "        vertical-align: middle;\n",
       "    }\n",
       "\n",
       "    .dataframe tbody tr th {\n",
       "        vertical-align: top;\n",
       "    }\n",
       "\n",
       "    .dataframe thead th {\n",
       "        text-align: right;\n",
       "    }\n",
       "</style>\n",
       "<table border=\"1\" class=\"dataframe\">\n",
       "  <thead>\n",
       "    <tr style=\"text-align: right;\">\n",
       "      <th></th>\n",
       "      <th>City/Town</th>\n",
       "      <th>Country/Territory</th>\n",
       "      <th>Continent</th>\n",
       "      <th>Notes</th>\n",
       "    </tr>\n",
       "  </thead>\n",
       "  <tbody>\n",
       "    <tr>\n",
       "      <th>0</th>\n",
       "      <td>Abidjan (former capital; still hosts some gove...</td>\n",
       "      <td>Ivory Coast (Côte d'Ivoire)</td>\n",
       "      <td>Africa</td>\n",
       "      <td>Abidjan is the largest city in Ivory Coast and...</td>\n",
       "    </tr>\n",
       "    <tr>\n",
       "      <th>1</th>\n",
       "      <td>Yamoussoukro (de jure)</td>\n",
       "      <td>Ivory Coast (Côte d'Ivoire)</td>\n",
       "      <td>Africa</td>\n",
       "      <td>Abidjan is the largest city in Ivory Coast and...</td>\n",
       "    </tr>\n",
       "    <tr>\n",
       "      <th>2</th>\n",
       "      <td>Abu Dhabi</td>\n",
       "      <td>United Arab Emirates</td>\n",
       "      <td>Asia</td>\n",
       "      <td>NaN</td>\n",
       "    </tr>\n",
       "    <tr>\n",
       "      <th>3</th>\n",
       "      <td>Abuja</td>\n",
       "      <td>Nigeria</td>\n",
       "      <td>Africa</td>\n",
       "      <td>Lagos was the capital from 1914 to 1991.</td>\n",
       "    </tr>\n",
       "    <tr>\n",
       "      <th>4</th>\n",
       "      <td>Accra</td>\n",
       "      <td>Ghana</td>\n",
       "      <td>Africa</td>\n",
       "      <td>NaN</td>\n",
       "    </tr>\n",
       "  </tbody>\n",
       "</table>\n",
       "</div>"
      ],
      "text/plain": [
       "                                           City/Town  \\\n",
       "0  Abidjan (former capital; still hosts some gove...   \n",
       "1                             Yamoussoukro (de jure)   \n",
       "2                                          Abu Dhabi   \n",
       "3                                              Abuja   \n",
       "4                                              Accra   \n",
       "\n",
       "             Country/Territory Continent  \\\n",
       "0  Ivory Coast (Côte d'Ivoire)    Africa   \n",
       "1  Ivory Coast (Côte d'Ivoire)    Africa   \n",
       "2         United Arab Emirates      Asia   \n",
       "3                      Nigeria    Africa   \n",
       "4                        Ghana    Africa   \n",
       "\n",
       "                                               Notes  \n",
       "0  Abidjan is the largest city in Ivory Coast and...  \n",
       "1  Abidjan is the largest city in Ivory Coast and...  \n",
       "2                                                NaN  \n",
       "3           Lagos was the capital from 1914 to 1991.  \n",
       "4                                                NaN  "
      ]
     },
     "execution_count": 11,
     "metadata": {},
     "output_type": "execute_result"
    }
   ],
   "source": [
    "df.head()"
   ]
  },
  {
   "cell_type": "code",
   "execution_count": null,
   "id": "0c964126",
   "metadata": {},
   "outputs": [],
   "source": [
    "df.to_csv(\"capitals.csv\", index=False)"
   ]
  },
  {
   "cell_type": "code",
   "execution_count": null,
   "id": "fd507e03",
   "metadata": {},
   "outputs": [],
   "source": [
    "nrl_url = \"https://www.foxsports.com.au/nrl/nrl-premiership/stats/teams\""
   ]
  },
  {
   "cell_type": "code",
   "execution_count": null,
   "id": "531164e7",
   "metadata": {},
   "outputs": [
    {
     "name": "stderr",
     "output_type": "stream",
     "text": [
      "C:\\Users\\michael.hudson\\AppData\\Local\\Temp\\ipykernel_2744\\860979849.py:7: FutureWarning: Passing literal html to 'read_html' is deprecated and will be removed in a future version. To read from a literal string, wrap it in a 'StringIO' object.\n",
      "  html_tables = pd.read_html(response.text, index_col=0)\n"
     ]
    }
   ],
   "source": [
    "request_headers = {\n",
    "    \"User-Agent\": \"Mozilla/5.0 (Windows NT 10.0; Win64; x64) AppleWebKit/537.36 (KHTML, like Gecko) Chrome/58.0.3029.110 Safari/537.3\"\n",
    "}\n",
    "\n",
    "response = requests.get(nrl_url, headers=request_headers)\n",
    "\n",
    "html_tables = pd.read_html(response.text, index_col=0)"
   ]
  },
  {
   "cell_type": "code",
   "execution_count": 21,
   "id": "2fe006be",
   "metadata": {},
   "outputs": [
    {
     "data": {
      "text/plain": [
       "32"
      ]
     },
     "execution_count": 21,
     "metadata": {},
     "output_type": "execute_result"
    }
   ],
   "source": [
    "len(html_tables)"
   ]
  },
  {
   "cell_type": "code",
   "execution_count": 28,
   "id": "92dbd637",
   "metadata": {},
   "outputs": [
    {
     "data": {
      "application/vnd.microsoft.datawrangler.viewer.v0+json": {
       "columns": [
        {
         "name": "Name",
         "rawType": "object",
         "type": "string"
        },
        {
         "name": "PTS",
         "rawType": "int64",
         "type": "integer"
        },
        {
         "name": "T",
         "rawType": "int64",
         "type": "integer"
        },
        {
         "name": "R",
         "rawType": "int64",
         "type": "integer"
        },
        {
         "name": "RM",
         "rawType": "int64",
         "type": "integer"
        },
        {
         "name": "LB",
         "rawType": "int64",
         "type": "integer"
        },
        {
         "name": "TB",
         "rawType": "int64",
         "type": "integer"
        },
        {
         "name": "OFF",
         "rawType": "int64",
         "type": "integer"
        },
        {
         "name": "TO20",
         "rawType": "int64",
         "type": "integer"
        },
        {
         "name": "CR%",
         "rawType": "int64",
         "type": "integer"
        },
        {
         "name": "GLS",
         "rawType": "int64",
         "type": "integer"
        },
        {
         "name": "GA",
         "rawType": "int64",
         "type": "integer"
        },
        {
         "name": "GK%",
         "rawType": "int64",
         "type": "integer"
        },
        {
         "name": "FG",
         "rawType": "int64",
         "type": "integer"
        },
        {
         "name": "FGA",
         "rawType": "int64",
         "type": "integer"
        },
        {
         "name": "FG%",
         "rawType": "int64",
         "type": "integer"
        },
        {
         "name": "K",
         "rawType": "int64",
         "type": "integer"
        },
        {
         "name": "KM",
         "rawType": "int64",
         "type": "integer"
        },
        {
         "name": "LK",
         "rawType": "int64",
         "type": "integer"
        },
        {
         "name": "WK",
         "rawType": "int64",
         "type": "integer"
        },
        {
         "name": "AK",
         "rawType": "int64",
         "type": "integer"
        },
        {
         "name": "FDO",
         "rawType": "int64",
         "type": "integer"
        },
        {
         "name": "KR",
         "rawType": "int64",
         "type": "integer"
        },
        {
         "name": "KRM",
         "rawType": "int64",
         "type": "integer"
        },
        {
         "name": "DHR",
         "rawType": "int64",
         "type": "integer"
        },
        {
         "name": "1PH",
         "rawType": "int64",
         "type": "integer"
        },
        {
         "name": "LE",
         "rawType": "int64",
         "type": "integer"
        },
        {
         "name": "GPP",
         "rawType": "int64",
         "type": "integer"
        },
        {
         "name": "IGE",
         "rawType": "int64",
         "type": "integer"
        },
        {
         "name": "ERR",
         "rawType": "int64",
         "type": "integer"
        },
        {
         "name": "PA",
         "rawType": "int64",
         "type": "integer"
        },
        {
         "name": "PC",
         "rawType": "int64",
         "type": "integer"
        },
        {
         "name": "SB",
         "rawType": "int64",
         "type": "integer"
        },
        {
         "name": "SO",
         "rawType": "int64",
         "type": "integer"
        },
        {
         "name": "PTSC",
         "rawType": "int64",
         "type": "integer"
        },
        {
         "name": "TC",
         "rawType": "int64",
         "type": "integer"
        },
        {
         "name": "RMC",
         "rawType": "int64",
         "type": "integer"
        },
        {
         "name": "LBC",
         "rawType": "int64",
         "type": "integer"
        },
        {
         "name": "TCK",
         "rawType": "int64",
         "type": "integer"
        },
        {
         "name": "MT",
         "rawType": "int64",
         "type": "integer"
        },
        {
         "name": "OFFC",
         "rawType": "int64",
         "type": "integer"
        },
        {
         "name": "TA",
         "rawType": "int64",
         "type": "integer"
        }
       ],
       "conversionMethod": "pd.DataFrame",
       "ref": "948fe3b0-ef8a-4b81-b009-a718b95ad049",
       "rows": [
        [
         "1Roosters",
         "806",
         "141",
         "4355",
         "38611",
         "170",
         "1147",
         "306",
         "656",
         "80",
         "121",
         "154",
         "78",
         "0",
         "1",
         "0",
         "548",
         "14671",
         "273",
         "10",
         "262",
         "29",
         "255",
         "2630",
         "261",
         "1840",
         "917",
         "2746",
         "3",
         "267",
         "152",
         "188",
         "10",
         "2",
         "557",
         "95",
         "36327",
         "117",
         "8280",
         "896",
         "226",
         "132"
        ],
        [
         "2Storm",
         "783",
         "135",
         "4473",
         "39453",
         "181",
         "973",
         "268",
         "779",
         "80",
         "121",
         "155",
         "78",
         "1",
         "4",
         "25",
         "568",
         "14423",
         "255",
         "38",
         "271",
         "34",
         "248",
         "2386",
         "229",
         "2032",
         "749",
         "2504",
         "7",
         "264",
         "150",
         "138",
         "7",
         "0",
         "491",
         "85",
         "35463",
         "109",
         "7743",
         "780",
         "283",
         "112"
        ],
        [
         "3Cowboys",
         "703",
         "120",
         "4340",
         "39298",
         "153",
         "845",
         "187",
         "793",
         "78",
         "109",
         "130",
         "83",
         "4",
         "14",
         "28",
         "518",
         "13739",
         "261",
         "14",
         "237",
         "30",
         "270",
         "2742",
         "214",
         "1913",
         "1042",
         "2734",
         "5",
         "276",
         "129",
         "130",
         "7",
         "0",
         "610",
         "102",
         "36790",
         "114",
         "7896",
         "881",
         "236",
         "106"
        ],
        [
         "4Sharks",
         "695",
         "121",
         "4612",
         "39553",
         "135",
         "1022",
         "241",
         "798",
         "79",
         "104",
         "128",
         "81",
         "3",
         "5",
         "60",
         "540",
         "15714",
         "286",
         "37",
         "213",
         "18",
         "314",
         "2911",
         "157",
         "2035",
         "729",
         "2611",
         "3",
         "273",
         "134",
         "162",
         "6",
         "0",
         "512",
         "87",
         "38296",
         "117",
         "8712",
         "914",
         "256",
         "110"
        ],
        [
         "5Sea Eagles",
         "674",
         "118",
         "4215",
         "37480",
         "137",
         "809",
         "171",
         "664",
         "78",
         "100",
         "129",
         "77",
         "2",
         "8",
         "25",
         "528",
         "15690",
         "281",
         "46",
         "195",
         "27",
         "270",
         "2362",
         "126",
         "1809",
         "922",
         "2851",
         "3",
         "267",
         "141",
         "135",
         "6",
         "0",
         "583",
         "105",
         "38122",
         "132",
         "7594",
         "954",
         "250",
         "105"
        ]
       ],
       "shape": {
        "columns": 41,
        "rows": 5
       }
      },
      "text/html": [
       "<div>\n",
       "<style scoped>\n",
       "    .dataframe tbody tr th:only-of-type {\n",
       "        vertical-align: middle;\n",
       "    }\n",
       "\n",
       "    .dataframe tbody tr th {\n",
       "        vertical-align: top;\n",
       "    }\n",
       "\n",
       "    .dataframe thead th {\n",
       "        text-align: right;\n",
       "    }\n",
       "</style>\n",
       "<table border=\"1\" class=\"dataframe\">\n",
       "  <thead>\n",
       "    <tr style=\"text-align: right;\">\n",
       "      <th></th>\n",
       "      <th>PTS</th>\n",
       "      <th>T</th>\n",
       "      <th>R</th>\n",
       "      <th>RM</th>\n",
       "      <th>LB</th>\n",
       "      <th>TB</th>\n",
       "      <th>OFF</th>\n",
       "      <th>TO20</th>\n",
       "      <th>CR%</th>\n",
       "      <th>GLS</th>\n",
       "      <th>...</th>\n",
       "      <th>SB</th>\n",
       "      <th>SO</th>\n",
       "      <th>PTSC</th>\n",
       "      <th>TC</th>\n",
       "      <th>RMC</th>\n",
       "      <th>LBC</th>\n",
       "      <th>TCK</th>\n",
       "      <th>MT</th>\n",
       "      <th>OFFC</th>\n",
       "      <th>TA</th>\n",
       "    </tr>\n",
       "    <tr>\n",
       "      <th>Name</th>\n",
       "      <th></th>\n",
       "      <th></th>\n",
       "      <th></th>\n",
       "      <th></th>\n",
       "      <th></th>\n",
       "      <th></th>\n",
       "      <th></th>\n",
       "      <th></th>\n",
       "      <th></th>\n",
       "      <th></th>\n",
       "      <th></th>\n",
       "      <th></th>\n",
       "      <th></th>\n",
       "      <th></th>\n",
       "      <th></th>\n",
       "      <th></th>\n",
       "      <th></th>\n",
       "      <th></th>\n",
       "      <th></th>\n",
       "      <th></th>\n",
       "      <th></th>\n",
       "    </tr>\n",
       "  </thead>\n",
       "  <tbody>\n",
       "    <tr>\n",
       "      <th>1Roosters</th>\n",
       "      <td>806</td>\n",
       "      <td>141</td>\n",
       "      <td>4355</td>\n",
       "      <td>38611</td>\n",
       "      <td>170</td>\n",
       "      <td>1147</td>\n",
       "      <td>306</td>\n",
       "      <td>656</td>\n",
       "      <td>80</td>\n",
       "      <td>121</td>\n",
       "      <td>...</td>\n",
       "      <td>10</td>\n",
       "      <td>2</td>\n",
       "      <td>557</td>\n",
       "      <td>95</td>\n",
       "      <td>36327</td>\n",
       "      <td>117</td>\n",
       "      <td>8280</td>\n",
       "      <td>896</td>\n",
       "      <td>226</td>\n",
       "      <td>132</td>\n",
       "    </tr>\n",
       "    <tr>\n",
       "      <th>2Storm</th>\n",
       "      <td>783</td>\n",
       "      <td>135</td>\n",
       "      <td>4473</td>\n",
       "      <td>39453</td>\n",
       "      <td>181</td>\n",
       "      <td>973</td>\n",
       "      <td>268</td>\n",
       "      <td>779</td>\n",
       "      <td>80</td>\n",
       "      <td>121</td>\n",
       "      <td>...</td>\n",
       "      <td>7</td>\n",
       "      <td>0</td>\n",
       "      <td>491</td>\n",
       "      <td>85</td>\n",
       "      <td>35463</td>\n",
       "      <td>109</td>\n",
       "      <td>7743</td>\n",
       "      <td>780</td>\n",
       "      <td>283</td>\n",
       "      <td>112</td>\n",
       "    </tr>\n",
       "    <tr>\n",
       "      <th>3Cowboys</th>\n",
       "      <td>703</td>\n",
       "      <td>120</td>\n",
       "      <td>4340</td>\n",
       "      <td>39298</td>\n",
       "      <td>153</td>\n",
       "      <td>845</td>\n",
       "      <td>187</td>\n",
       "      <td>793</td>\n",
       "      <td>78</td>\n",
       "      <td>109</td>\n",
       "      <td>...</td>\n",
       "      <td>7</td>\n",
       "      <td>0</td>\n",
       "      <td>610</td>\n",
       "      <td>102</td>\n",
       "      <td>36790</td>\n",
       "      <td>114</td>\n",
       "      <td>7896</td>\n",
       "      <td>881</td>\n",
       "      <td>236</td>\n",
       "      <td>106</td>\n",
       "    </tr>\n",
       "    <tr>\n",
       "      <th>4Sharks</th>\n",
       "      <td>695</td>\n",
       "      <td>121</td>\n",
       "      <td>4612</td>\n",
       "      <td>39553</td>\n",
       "      <td>135</td>\n",
       "      <td>1022</td>\n",
       "      <td>241</td>\n",
       "      <td>798</td>\n",
       "      <td>79</td>\n",
       "      <td>104</td>\n",
       "      <td>...</td>\n",
       "      <td>6</td>\n",
       "      <td>0</td>\n",
       "      <td>512</td>\n",
       "      <td>87</td>\n",
       "      <td>38296</td>\n",
       "      <td>117</td>\n",
       "      <td>8712</td>\n",
       "      <td>914</td>\n",
       "      <td>256</td>\n",
       "      <td>110</td>\n",
       "    </tr>\n",
       "    <tr>\n",
       "      <th>5Sea Eagles</th>\n",
       "      <td>674</td>\n",
       "      <td>118</td>\n",
       "      <td>4215</td>\n",
       "      <td>37480</td>\n",
       "      <td>137</td>\n",
       "      <td>809</td>\n",
       "      <td>171</td>\n",
       "      <td>664</td>\n",
       "      <td>78</td>\n",
       "      <td>100</td>\n",
       "      <td>...</td>\n",
       "      <td>6</td>\n",
       "      <td>0</td>\n",
       "      <td>583</td>\n",
       "      <td>105</td>\n",
       "      <td>38122</td>\n",
       "      <td>132</td>\n",
       "      <td>7594</td>\n",
       "      <td>954</td>\n",
       "      <td>250</td>\n",
       "      <td>105</td>\n",
       "    </tr>\n",
       "  </tbody>\n",
       "</table>\n",
       "<p>5 rows × 41 columns</p>\n",
       "</div>"
      ],
      "text/plain": [
       "             PTS    T     R     RM   LB    TB  OFF  TO20  CR%  GLS  ...  SB  \\\n",
       "Name                                                                ...       \n",
       "1Roosters    806  141  4355  38611  170  1147  306   656   80  121  ...  10   \n",
       "2Storm       783  135  4473  39453  181   973  268   779   80  121  ...   7   \n",
       "3Cowboys     703  120  4340  39298  153   845  187   793   78  109  ...   7   \n",
       "4Sharks      695  121  4612  39553  135  1022  241   798   79  104  ...   6   \n",
       "5Sea Eagles  674  118  4215  37480  137   809  171   664   78  100  ...   6   \n",
       "\n",
       "             SO  PTSC   TC    RMC  LBC   TCK   MT  OFFC   TA  \n",
       "Name                                                          \n",
       "1Roosters     2   557   95  36327  117  8280  896   226  132  \n",
       "2Storm        0   491   85  35463  109  7743  780   283  112  \n",
       "3Cowboys      0   610  102  36790  114  7896  881   236  106  \n",
       "4Sharks       0   512   87  38296  117  8712  914   256  110  \n",
       "5Sea Eagles   0   583  105  38122  132  7594  954   250  105  \n",
       "\n",
       "[5 rows x 41 columns]"
      ]
     },
     "execution_count": 28,
     "metadata": {},
     "output_type": "execute_result"
    }
   ],
   "source": [
    "html_tables[31].head()"
   ]
  },
  {
   "cell_type": "code",
   "execution_count": 29,
   "id": "4ca669a1",
   "metadata": {},
   "outputs": [],
   "source": [
    "nrl_df = html_tables[31]"
   ]
  },
  {
   "cell_type": "code",
   "execution_count": 30,
   "id": "7b6d92b1",
   "metadata": {},
   "outputs": [
    {
     "data": {
      "application/vnd.microsoft.datawrangler.viewer.v0+json": {
       "columns": [
        {
         "name": "Name",
         "rawType": "object",
         "type": "string"
        },
        {
         "name": "PTS",
         "rawType": "int64",
         "type": "integer"
        },
        {
         "name": "T",
         "rawType": "int64",
         "type": "integer"
        },
        {
         "name": "R",
         "rawType": "int64",
         "type": "integer"
        },
        {
         "name": "RM",
         "rawType": "int64",
         "type": "integer"
        },
        {
         "name": "LB",
         "rawType": "int64",
         "type": "integer"
        },
        {
         "name": "TB",
         "rawType": "int64",
         "type": "integer"
        },
        {
         "name": "OFF",
         "rawType": "int64",
         "type": "integer"
        },
        {
         "name": "TO20",
         "rawType": "int64",
         "type": "integer"
        },
        {
         "name": "CR%",
         "rawType": "int64",
         "type": "integer"
        },
        {
         "name": "GLS",
         "rawType": "int64",
         "type": "integer"
        },
        {
         "name": "GA",
         "rawType": "int64",
         "type": "integer"
        },
        {
         "name": "GK%",
         "rawType": "int64",
         "type": "integer"
        },
        {
         "name": "FG",
         "rawType": "int64",
         "type": "integer"
        },
        {
         "name": "FGA",
         "rawType": "int64",
         "type": "integer"
        },
        {
         "name": "FG%",
         "rawType": "int64",
         "type": "integer"
        },
        {
         "name": "K",
         "rawType": "int64",
         "type": "integer"
        },
        {
         "name": "KM",
         "rawType": "int64",
         "type": "integer"
        },
        {
         "name": "LK",
         "rawType": "int64",
         "type": "integer"
        },
        {
         "name": "WK",
         "rawType": "int64",
         "type": "integer"
        },
        {
         "name": "AK",
         "rawType": "int64",
         "type": "integer"
        },
        {
         "name": "FDO",
         "rawType": "int64",
         "type": "integer"
        },
        {
         "name": "KR",
         "rawType": "int64",
         "type": "integer"
        },
        {
         "name": "KRM",
         "rawType": "int64",
         "type": "integer"
        },
        {
         "name": "DHR",
         "rawType": "int64",
         "type": "integer"
        },
        {
         "name": "1PH",
         "rawType": "int64",
         "type": "integer"
        },
        {
         "name": "LE",
         "rawType": "int64",
         "type": "integer"
        },
        {
         "name": "GPP",
         "rawType": "int64",
         "type": "integer"
        },
        {
         "name": "IGE",
         "rawType": "int64",
         "type": "integer"
        },
        {
         "name": "ERR",
         "rawType": "int64",
         "type": "integer"
        },
        {
         "name": "PA",
         "rawType": "int64",
         "type": "integer"
        },
        {
         "name": "PC",
         "rawType": "int64",
         "type": "integer"
        },
        {
         "name": "SB",
         "rawType": "int64",
         "type": "integer"
        },
        {
         "name": "SO",
         "rawType": "int64",
         "type": "integer"
        },
        {
         "name": "PTSC",
         "rawType": "int64",
         "type": "integer"
        },
        {
         "name": "TC",
         "rawType": "int64",
         "type": "integer"
        },
        {
         "name": "RMC",
         "rawType": "int64",
         "type": "integer"
        },
        {
         "name": "LBC",
         "rawType": "int64",
         "type": "integer"
        },
        {
         "name": "TCK",
         "rawType": "int64",
         "type": "integer"
        },
        {
         "name": "MT",
         "rawType": "int64",
         "type": "integer"
        },
        {
         "name": "OFFC",
         "rawType": "int64",
         "type": "integer"
        },
        {
         "name": "TA",
         "rawType": "int64",
         "type": "integer"
        }
       ],
       "conversionMethod": "pd.DataFrame",
       "ref": "d6ec2bc8-8e6c-4276-a7f3-e675930df0b8",
       "rows": [
        [
         "1Roosters",
         "806",
         "141",
         "4355",
         "38611",
         "170",
         "1147",
         "306",
         "656",
         "80",
         "121",
         "154",
         "78",
         "0",
         "1",
         "0",
         "548",
         "14671",
         "273",
         "10",
         "262",
         "29",
         "255",
         "2630",
         "261",
         "1840",
         "917",
         "2746",
         "3",
         "267",
         "152",
         "188",
         "10",
         "2",
         "557",
         "95",
         "36327",
         "117",
         "8280",
         "896",
         "226",
         "132"
        ],
        [
         "2Storm",
         "783",
         "135",
         "4473",
         "39453",
         "181",
         "973",
         "268",
         "779",
         "80",
         "121",
         "155",
         "78",
         "1",
         "4",
         "25",
         "568",
         "14423",
         "255",
         "38",
         "271",
         "34",
         "248",
         "2386",
         "229",
         "2032",
         "749",
         "2504",
         "7",
         "264",
         "150",
         "138",
         "7",
         "0",
         "491",
         "85",
         "35463",
         "109",
         "7743",
         "780",
         "283",
         "112"
        ],
        [
         "3Cowboys",
         "703",
         "120",
         "4340",
         "39298",
         "153",
         "845",
         "187",
         "793",
         "78",
         "109",
         "130",
         "83",
         "4",
         "14",
         "28",
         "518",
         "13739",
         "261",
         "14",
         "237",
         "30",
         "270",
         "2742",
         "214",
         "1913",
         "1042",
         "2734",
         "5",
         "276",
         "129",
         "130",
         "7",
         "0",
         "610",
         "102",
         "36790",
         "114",
         "7896",
         "881",
         "236",
         "106"
        ],
        [
         "4Sharks",
         "695",
         "121",
         "4612",
         "39553",
         "135",
         "1022",
         "241",
         "798",
         "79",
         "104",
         "128",
         "81",
         "3",
         "5",
         "60",
         "540",
         "15714",
         "286",
         "37",
         "213",
         "18",
         "314",
         "2911",
         "157",
         "2035",
         "729",
         "2611",
         "3",
         "273",
         "134",
         "162",
         "6",
         "0",
         "512",
         "87",
         "38296",
         "117",
         "8712",
         "914",
         "256",
         "110"
        ],
        [
         "5Sea Eagles",
         "674",
         "118",
         "4215",
         "37480",
         "137",
         "809",
         "171",
         "664",
         "78",
         "100",
         "129",
         "77",
         "2",
         "8",
         "25",
         "528",
         "15690",
         "281",
         "46",
         "195",
         "27",
         "270",
         "2362",
         "126",
         "1809",
         "922",
         "2851",
         "3",
         "267",
         "141",
         "135",
         "6",
         "0",
         "583",
         "105",
         "38122",
         "132",
         "7594",
         "954",
         "250",
         "105"
        ]
       ],
       "shape": {
        "columns": 41,
        "rows": 5
       }
      },
      "text/html": [
       "<div>\n",
       "<style scoped>\n",
       "    .dataframe tbody tr th:only-of-type {\n",
       "        vertical-align: middle;\n",
       "    }\n",
       "\n",
       "    .dataframe tbody tr th {\n",
       "        vertical-align: top;\n",
       "    }\n",
       "\n",
       "    .dataframe thead th {\n",
       "        text-align: right;\n",
       "    }\n",
       "</style>\n",
       "<table border=\"1\" class=\"dataframe\">\n",
       "  <thead>\n",
       "    <tr style=\"text-align: right;\">\n",
       "      <th></th>\n",
       "      <th>PTS</th>\n",
       "      <th>T</th>\n",
       "      <th>R</th>\n",
       "      <th>RM</th>\n",
       "      <th>LB</th>\n",
       "      <th>TB</th>\n",
       "      <th>OFF</th>\n",
       "      <th>TO20</th>\n",
       "      <th>CR%</th>\n",
       "      <th>GLS</th>\n",
       "      <th>...</th>\n",
       "      <th>SB</th>\n",
       "      <th>SO</th>\n",
       "      <th>PTSC</th>\n",
       "      <th>TC</th>\n",
       "      <th>RMC</th>\n",
       "      <th>LBC</th>\n",
       "      <th>TCK</th>\n",
       "      <th>MT</th>\n",
       "      <th>OFFC</th>\n",
       "      <th>TA</th>\n",
       "    </tr>\n",
       "    <tr>\n",
       "      <th>Name</th>\n",
       "      <th></th>\n",
       "      <th></th>\n",
       "      <th></th>\n",
       "      <th></th>\n",
       "      <th></th>\n",
       "      <th></th>\n",
       "      <th></th>\n",
       "      <th></th>\n",
       "      <th></th>\n",
       "      <th></th>\n",
       "      <th></th>\n",
       "      <th></th>\n",
       "      <th></th>\n",
       "      <th></th>\n",
       "      <th></th>\n",
       "      <th></th>\n",
       "      <th></th>\n",
       "      <th></th>\n",
       "      <th></th>\n",
       "      <th></th>\n",
       "      <th></th>\n",
       "    </tr>\n",
       "  </thead>\n",
       "  <tbody>\n",
       "    <tr>\n",
       "      <th>1Roosters</th>\n",
       "      <td>806</td>\n",
       "      <td>141</td>\n",
       "      <td>4355</td>\n",
       "      <td>38611</td>\n",
       "      <td>170</td>\n",
       "      <td>1147</td>\n",
       "      <td>306</td>\n",
       "      <td>656</td>\n",
       "      <td>80</td>\n",
       "      <td>121</td>\n",
       "      <td>...</td>\n",
       "      <td>10</td>\n",
       "      <td>2</td>\n",
       "      <td>557</td>\n",
       "      <td>95</td>\n",
       "      <td>36327</td>\n",
       "      <td>117</td>\n",
       "      <td>8280</td>\n",
       "      <td>896</td>\n",
       "      <td>226</td>\n",
       "      <td>132</td>\n",
       "    </tr>\n",
       "    <tr>\n",
       "      <th>2Storm</th>\n",
       "      <td>783</td>\n",
       "      <td>135</td>\n",
       "      <td>4473</td>\n",
       "      <td>39453</td>\n",
       "      <td>181</td>\n",
       "      <td>973</td>\n",
       "      <td>268</td>\n",
       "      <td>779</td>\n",
       "      <td>80</td>\n",
       "      <td>121</td>\n",
       "      <td>...</td>\n",
       "      <td>7</td>\n",
       "      <td>0</td>\n",
       "      <td>491</td>\n",
       "      <td>85</td>\n",
       "      <td>35463</td>\n",
       "      <td>109</td>\n",
       "      <td>7743</td>\n",
       "      <td>780</td>\n",
       "      <td>283</td>\n",
       "      <td>112</td>\n",
       "    </tr>\n",
       "    <tr>\n",
       "      <th>3Cowboys</th>\n",
       "      <td>703</td>\n",
       "      <td>120</td>\n",
       "      <td>4340</td>\n",
       "      <td>39298</td>\n",
       "      <td>153</td>\n",
       "      <td>845</td>\n",
       "      <td>187</td>\n",
       "      <td>793</td>\n",
       "      <td>78</td>\n",
       "      <td>109</td>\n",
       "      <td>...</td>\n",
       "      <td>7</td>\n",
       "      <td>0</td>\n",
       "      <td>610</td>\n",
       "      <td>102</td>\n",
       "      <td>36790</td>\n",
       "      <td>114</td>\n",
       "      <td>7896</td>\n",
       "      <td>881</td>\n",
       "      <td>236</td>\n",
       "      <td>106</td>\n",
       "    </tr>\n",
       "    <tr>\n",
       "      <th>4Sharks</th>\n",
       "      <td>695</td>\n",
       "      <td>121</td>\n",
       "      <td>4612</td>\n",
       "      <td>39553</td>\n",
       "      <td>135</td>\n",
       "      <td>1022</td>\n",
       "      <td>241</td>\n",
       "      <td>798</td>\n",
       "      <td>79</td>\n",
       "      <td>104</td>\n",
       "      <td>...</td>\n",
       "      <td>6</td>\n",
       "      <td>0</td>\n",
       "      <td>512</td>\n",
       "      <td>87</td>\n",
       "      <td>38296</td>\n",
       "      <td>117</td>\n",
       "      <td>8712</td>\n",
       "      <td>914</td>\n",
       "      <td>256</td>\n",
       "      <td>110</td>\n",
       "    </tr>\n",
       "    <tr>\n",
       "      <th>5Sea Eagles</th>\n",
       "      <td>674</td>\n",
       "      <td>118</td>\n",
       "      <td>4215</td>\n",
       "      <td>37480</td>\n",
       "      <td>137</td>\n",
       "      <td>809</td>\n",
       "      <td>171</td>\n",
       "      <td>664</td>\n",
       "      <td>78</td>\n",
       "      <td>100</td>\n",
       "      <td>...</td>\n",
       "      <td>6</td>\n",
       "      <td>0</td>\n",
       "      <td>583</td>\n",
       "      <td>105</td>\n",
       "      <td>38122</td>\n",
       "      <td>132</td>\n",
       "      <td>7594</td>\n",
       "      <td>954</td>\n",
       "      <td>250</td>\n",
       "      <td>105</td>\n",
       "    </tr>\n",
       "  </tbody>\n",
       "</table>\n",
       "<p>5 rows × 41 columns</p>\n",
       "</div>"
      ],
      "text/plain": [
       "             PTS    T     R     RM   LB    TB  OFF  TO20  CR%  GLS  ...  SB  \\\n",
       "Name                                                                ...       \n",
       "1Roosters    806  141  4355  38611  170  1147  306   656   80  121  ...  10   \n",
       "2Storm       783  135  4473  39453  181   973  268   779   80  121  ...   7   \n",
       "3Cowboys     703  120  4340  39298  153   845  187   793   78  109  ...   7   \n",
       "4Sharks      695  121  4612  39553  135  1022  241   798   79  104  ...   6   \n",
       "5Sea Eagles  674  118  4215  37480  137   809  171   664   78  100  ...   6   \n",
       "\n",
       "             SO  PTSC   TC    RMC  LBC   TCK   MT  OFFC   TA  \n",
       "Name                                                          \n",
       "1Roosters     2   557   95  36327  117  8280  896   226  132  \n",
       "2Storm        0   491   85  35463  109  7743  780   283  112  \n",
       "3Cowboys      0   610  102  36790  114  7896  881   236  106  \n",
       "4Sharks       0   512   87  38296  117  8712  914   256  110  \n",
       "5Sea Eagles   0   583  105  38122  132  7594  954   250  105  \n",
       "\n",
       "[5 rows x 41 columns]"
      ]
     },
     "execution_count": 30,
     "metadata": {},
     "output_type": "execute_result"
    }
   ],
   "source": [
    "nrl_df.head()"
   ]
  },
  {
   "cell_type": "code",
   "execution_count": null,
   "id": "c26b0177",
   "metadata": {},
   "outputs": [],
   "source": [
    "nrl_df.to_csv(\"nrl2024.csv\", index=False)"
   ]
  },
  {
   "cell_type": "code",
   "execution_count": null,
   "id": "063d163a",
   "metadata": {},
   "outputs": [],
   "source": []
  }
 ],
 "metadata": {
  "kernelspec": {
   "display_name": ".venv",
   "language": "python",
   "name": "python3"
  },
  "language_info": {
   "codemirror_mode": {
    "name": "ipython",
    "version": 3
   },
   "file_extension": ".py",
   "mimetype": "text/x-python",
   "name": "python",
   "nbconvert_exporter": "python",
   "pygments_lexer": "ipython3",
   "version": "3.11.7"
  }
 },
 "nbformat": 4,
 "nbformat_minor": 5
}
