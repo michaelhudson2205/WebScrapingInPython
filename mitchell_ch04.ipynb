{
 "cells": [
  {
   "cell_type": "markdown",
   "id": "e1a83007",
   "metadata": {},
   "source": [
    "### Writing Your First Web Scraper"
   ]
  },
  {
   "cell_type": "code",
   "execution_count": null,
   "id": "5f5daabf",
   "metadata": {},
   "outputs": [
    {
     "name": "stdout",
     "output_type": "stream",
     "text": [
      "b'<html>\\n<head>\\n<title>A Useful Page</title>\\n</head>\\n<body>\\n<h1>An Interesting Title</h1>\\n<div>\\nLorem ipsum dolor sit amet, consectetur adipisicing elit, sed do eiusmod tempor incididunt ut labore et dolore magna aliqua. Ut enim ad minim veniam, quis nostrud exercitation ullamco laboris nisi ut aliquip ex ea commodo consequat. Duis aute irure dolor in reprehenderit in voluptate velit esse cillum dolore eu fugiat nulla pariatur. Excepteur sint occaecat cupidatat non proident, sunt in culpa qui officia deserunt mollit anim id est laborum.\\n</div>\\n</body>\\n</html>\\n'\n"
     ]
    }
   ],
   "source": [
    "from urllib.request import urlopen\n",
    "\n",
    "html = urlopen(\"http://pythonscraping.com/pages/page1.html\")\n",
    "print(html.read())"
   ]
  },
  {
   "cell_type": "code",
   "execution_count": null,
   "id": "ccb5d3e0",
   "metadata": {},
   "outputs": [
    {
     "name": "stdout",
     "output_type": "stream",
     "text": [
      "<h1>An Interesting Title</h1>\n"
     ]
    }
   ],
   "source": [
    "from urllib.request import urlopen\n",
    "from bs4 import BeautifulSoup\n",
    "\n",
    "html = urlopen(\"http://pythonscraping.com/pages/page1.html\")\n",
    "bsObj = BeautifulSoup(html.read(), \"html.parser\")\n",
    "print(bsObj.h1)"
   ]
  },
  {
   "cell_type": "code",
   "execution_count": null,
   "id": "fc2b0deb",
   "metadata": {},
   "outputs": [
    {
     "name": "stderr",
     "output_type": "stream",
     "text": [
      "C:\\Users\\michael.hudson\\AppData\\Local\\Temp\\ipykernel_21204\\2523664131.py:3: AttributeResemblesVariableWarning: '_class' is an unusual attribute name and is a common misspelling for 'class_'.\n",
      "\n",
      "If you meant 'class_', change your code to use it, and this warning will go away.\n",
      "\n",
      "If you really did mean to check the '_class' attribute, this warning is spurious and can be filtered. To make it go away, run this code before creating your BeautifulSoup object:\n",
      "\n",
      "    from bs4 import AttributeResemblesVariableWarning\n",
      "    import warnings\n",
      "\n",
      "    warnings.filterwarnings(\"ignore\", category=AttributeResemblesVariableWarning)\n",
      "\n",
      "  bsObj.find_all(_class = 'mw-ui-icon-wikimedia-listBullet')\n"
     ]
    },
    {
     "data": {
      "text/plain": [
       "[]"
      ]
     },
     "execution_count": 4,
     "metadata": {},
     "output_type": "execute_result"
    }
   ],
   "source": [
    "html = urlopen(\"https://en.wikipedia.org/wiki/Iron_Gwazi\")\n",
    "bsObj = BeautifulSoup(html.read(), \"html.parser\")\n",
    "bsObj.find_all(_class=\"mw-ui-icon-wikimedia-listBullet\")"
   ]
  },
  {
   "cell_type": "code",
   "execution_count": null,
   "id": "0561614d",
   "metadata": {},
   "outputs": [],
   "source": []
  }
 ],
 "metadata": {
  "kernelspec": {
   "display_name": ".venv",
   "language": "python",
   "name": "python3"
  },
  "language_info": {
   "codemirror_mode": {
    "name": "ipython",
    "version": 3
   },
   "file_extension": ".py",
   "mimetype": "text/x-python",
   "name": "python",
   "nbconvert_exporter": "python",
   "pygments_lexer": "ipython3",
   "version": "3.11.7"
  }
 },
 "nbformat": 4,
 "nbformat_minor": 5
}
